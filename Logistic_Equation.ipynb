{
 "cells": [
  {
   "cell_type": "markdown",
   "id": "e3e40b64-4d84-4a06-b29b-9f19879da1a1",
   "metadata": {},
   "source": [
    "<font size = 5> $X_{n+1} = a \\cdot X_{n}\\cdot(1-X_{n})$\n",
    "\n",
    "$X_{n}$: Theoretical poblational percentage at time n\n",
    "\n",
    "a: coefficient of growth, $0\\leq a \\leq 4$"
   ]
  }
 ],
 "metadata": {
  "kernelspec": {
   "display_name": "Python 3 (ipykernel)",
   "language": "python",
   "name": "python3"
  },
  "language_info": {
   "codemirror_mode": {
    "name": "ipython",
    "version": 3
   },
   "file_extension": ".py",
   "mimetype": "text/x-python",
   "name": "python",
   "nbconvert_exporter": "python",
   "pygments_lexer": "ipython3",
   "version": "3.12.4"
  }
 },
 "nbformat": 4,
 "nbformat_minor": 5
}
