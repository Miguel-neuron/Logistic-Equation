{
 "cells": [
  {
   "cell_type": "markdown",
   "id": "e3e40b64-4d84-4a06-b29b-9f19879da1a1",
   "metadata": {},
   "source": [
    "<font size = 5> $X_{n+1} = a \\cdot X_{n}\\cdot(1-X_{n})$\n",
    "\n",
    "$X_{n}$: Theoretical poblational percentage at time n\n",
    "\n",
    "a: coefficient of growth, $0\\leq a \\leq 4$"
   ]
  },
  {
   "cell_type": "code",
   "execution_count": 5,
   "id": "0b6a3072-5699-4ff5-a907-3d67b21d5686",
   "metadata": {},
   "outputs": [],
   "source": [
    "import numpy as np\n",
    "import matplotlib.pyplot as plt"
   ]
  },
  {
   "cell_type": "code",
   "execution_count": 6,
   "id": "2f69b9cf-1949-4fd9-a7a3-02327c7a03b6",
   "metadata": {},
   "outputs": [],
   "source": [
    "#This code let us to save the values of the population inside to an array named values_population\n",
    "\n",
    "def logistic(total_years,initial_population,a): #We define a function named as logistic\n",
    "  values_population = np.zeros(total_years)\n",
    "  values_population[0] = initial_population  #here we save the initial population value for the next iterations\n",
    "  population = initial_population\n",
    "    \n",
    "  for i in range(1,len(values_population)):\n",
    "     population = a*population*(1-population)\n",
    "     values_population[i] = population\n",
    "  return values_population"
   ]
  },
  {
   "cell_type": "code",
   "execution_count": 7,
   "id": "fa87f5c3-66c8-4a78-a8a4-099a5199004a",
   "metadata": {},
   "outputs": [
    {
     "data": {
      "text/plain": [
       "array([0.3       , 0.588     , 0.6783168 , 0.61096873, 0.66552063,\n",
       "       0.62328818, 0.65744007, 0.63059535, 0.6522456 , 0.63509958,\n",
       "       0.64889469, 0.63792504, 0.64673471, 0.63971299, 0.64534479,\n",
       "       0.6408497 , 0.64445181, 0.64157429, 0.64387882, 0.64203688,\n",
       "       0.64351147, 0.64233248, 0.6432761 , 0.64252148, 0.64312535,\n",
       "       0.64264237, 0.64302883, 0.64271971, 0.64296704, 0.64276919])"
      ]
     },
     "execution_count": 7,
     "metadata": {},
     "output_type": "execute_result"
    }
   ],
   "source": [
    "#For example if we choose total_years = 30, initial_population = 0.30 and a = 2.8 we have:\n",
    "\n",
    "logistic(30,0.30,2.8)\n",
    "\n",
    "#So the total_years correspond to a number of iterations in x"
   ]
  }
 ],
 "metadata": {
  "kernelspec": {
   "display_name": "Python 3 (ipykernel)",
   "language": "python",
   "name": "python3"
  },
  "language_info": {
   "codemirror_mode": {
    "name": "ipython",
    "version": 3
   },
   "file_extension": ".py",
   "mimetype": "text/x-python",
   "name": "python",
   "nbconvert_exporter": "python",
   "pygments_lexer": "ipython3",
   "version": "3.12.4"
  }
 },
 "nbformat": 4,
 "nbformat_minor": 5
}
